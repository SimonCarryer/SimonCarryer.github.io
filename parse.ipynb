{
 "metadata": {
  "language_info": {
   "codemirror_mode": {
    "name": "ipython",
    "version": 3
   },
   "file_extension": ".py",
   "mimetype": "text/x-python",
   "name": "python",
   "nbconvert_exporter": "python",
   "pygments_lexer": "ipython3",
   "version": "3.7.6-final"
  },
  "orig_nbformat": 2,
  "kernelspec": {
   "name": "python3",
   "display_name": "Python 3",
   "language": "python"
  }
 },
 "nbformat": 4,
 "nbformat_minor": 2,
 "cells": [
  {
   "cell_type": "code",
   "execution_count": 193,
   "metadata": {},
   "outputs": [],
   "source": [
    "from bs4 import BeautifulSoup\n",
    "import sys\n",
    "import urllib.request\n",
    "\n",
    "\n"
   ]
  },
  {
   "cell_type": "code",
   "execution_count": 232,
   "metadata": {},
   "outputs": [],
   "source": [
    "def pagebreak(p):\n",
    "    return p.span is not None\n",
    "\n",
    "def empty(p):\n",
    "    return len(p.text) <= 1\n",
    "\n",
    "def is_header(p):\n",
    "    return p.div is not None\n",
    "\n",
    "\n",
    "def process(p):\n",
    "    if is_header(p):\n",
    "        return f\"<h3>{p.div.text.strip().title()}</h3>\"\n",
    "    else:\n",
    "        return str(p).replace('<p class=\"div1\">', '<div class=\"jerningham\">').replace(\"</p>\", \"</div>\").replace(\"<font \", \"<div \").replace(\"</font>\", \"</div>\")\n"
   ]
  },
  {
   "cell_type": "code",
   "execution_count": 192,
   "metadata": {},
   "outputs": [
    {
     "output_type": "stream",
     "name": "stdout",
     "text": [
      "Done with chapter 1\n",
      "Done with chapter 2\n",
      "Done with chapter 3\n",
      "Done with chapter 4\n",
      "Done with chapter 5\n"
     ]
    }
   ],
   "source": [
    "for n in range(0, 5):\n",
    "    page_id = 555+n\n",
    "    chapter = n+1\n",
    "\n",
    "    with urllib.request.urlopen(f\"http://www.enzb.auckland.ac.nz/document/?wid={str(page_id)}&page=1&action=null\") as html_doc:\n",
    "        raw = html_doc.read()\n",
    "\n",
    "    soup = BeautifulSoup(raw, 'html.parser')\n",
    "    paragraphs = soup.find_all(\"p\", {\"class\": \"div1\"})\n",
    "    footnotes = soup.find_all(\"div\", {\"class\": \"footnote\"})\n",
    "\n",
    "    text = \"\".join([process(p) for p in paragraphs if not pagebreak(p) and not empty(p)])\n",
    "    footnotes = \"\".join([str(footnote) for footnote in footnotes])\n",
    "\n",
    "    page = f'<div class=\"text\">{text}</div><div class=\"footnotes\">{footnotes}</div>'\n",
    "\n",
    "    with open(f\"raw/chapter{str(chapter)}.html\", \"wb\") as f:\n",
    "        f.write(page.encode('utf-8'))\n",
    "    print(f\"Done with chapter {chapter}\")"
   ]
  },
  {
   "cell_type": "code",
   "execution_count": 220,
   "metadata": {},
   "outputs": [],
   "source": [
    "head = '''<!doctype html>\n",
    "<html lang=\"en\">\n",
    "\n",
    "<head>\n",
    "    <!-- Required meta tags -->\n",
    "    <meta charset=\"utf-8\">\n",
    "    <meta name=\"viewport\" content=\"width=device-width, initial-scale=1\">\n",
    "    <!-- Bootstrap CSS -->\n",
    "    <link href=\"https://cdn.jsdelivr.net/npm/bootstrap@5.0.0-beta1/dist/css/bootstrap.min.css\" rel=\"stylesheet\"\n",
    "        integrity=\"sha384-giJF6kkoqNQ00vy+HMDP7azOuL0xtbfIcaT9wjKHr8RbDVddVHyTfAAsrekwKmP1\" crossorigin=\"anonymous\">\n",
    "    <link rel=\"stylesheet\" type=\"text/css\" href=\"css/main.css\">\n",
    "    <script src=\"scripts/main.js\"></script>\n",
    "    <title>Adventure in New Zealand</title>\n",
    "</head>\n",
    "\n",
    "<body onload=\"buildNav(%d); buildFooter(%d)\">\n",
    "    <div id=\"nav-placeholder\">\n",
    "    </div>'''\n",
    "end = '''    <div class=\"footer\" id=\"footer\">\n",
    "        </div>\n",
    "    <script src=\"https://cdn.jsdelivr.net/npm/bootstrap@5.0.0-beta1/dist/js/bootstrap.bundle.min.js\"\n",
    "        integrity=\"sha384-ygbV9kiqUc6oa4msXn9868pTtWMgiQaeYH7/t7LECLbyPA2x65Kgf80OJFdroafW\"\n",
    "        crossorigin=\"anonymous\"></script>\n",
    "</body>\n",
    "</html>'''"
   ]
  },
  {
   "cell_type": "code",
   "execution_count": 235,
   "metadata": {},
   "outputs": [],
   "source": [
    "chapter_num = 4\n",
    "\n",
    "\n",
    "page_id = 555+chapter_num-1\n",
    "with urllib.request.urlopen(f\"http://www.enzb.auckland.ac.nz/document/?wid={str(page_id)}&page=1&action=null\") as html_doc:\n",
    "    raw = html_doc.read()\n",
    "\n",
    "soup = BeautifulSoup(raw, 'html.parser')\n",
    "paragraphs = soup.find_all(\"p\", {\"class\": \"div1\"})\n",
    "footnotes = soup.find_all(\"div\", {\"class\": \"footnote\"})\n",
    "\n",
    "text = \"\".join([process(p) for p in paragraphs if not pagebreak(p) and not empty(p)])\n",
    "footnotes = \"\".join([process(footnote) for footnote in footnotes])\n",
    "\n",
    "\n",
    "page = f'{head % (chapter_num, chapter_num)}<div class=\"text\">{text}</div><div class=\"footnotes\">{footnotes}</div>{end}'\n",
    "with open(f\"raw/chapter{str(chapter_num)}.html\", \"wb\") as f:\n",
    "    f.write(page.encode('utf-8'))"
   ]
  },
  {
   "cell_type": "code",
   "execution_count": 234,
   "metadata": {},
   "outputs": [
    {
     "output_type": "execute_result",
     "data": {
      "text/plain": [
       "''"
      ]
     },
     "metadata": {},
     "execution_count": 234
    }
   ],
   "source": [
    "idx = page.find(\"font\")\n",
    "page[idx-100:idx+100]"
   ]
  },
  {
   "cell_type": "code",
   "execution_count": 213,
   "metadata": {
    "tags": []
   },
   "outputs": [
    {
     "output_type": "execute_result",
     "data": {
      "text/plain": [
       "[True,\n",
       " False,\n",
       " False,\n",
       " True,\n",
       " False,\n",
       " False,\n",
       " False,\n",
       " False,\n",
       " False,\n",
       " False,\n",
       " True,\n",
       " False,\n",
       " False,\n",
       " False,\n",
       " True,\n",
       " False,\n",
       " False,\n",
       " False,\n",
       " False,\n",
       " True,\n",
       " False,\n",
       " False,\n",
       " False,\n",
       " True,\n",
       " False,\n",
       " False,\n",
       " False,\n",
       " False,\n",
       " False,\n",
       " True,\n",
       " False,\n",
       " False,\n",
       " True,\n",
       " False,\n",
       " False,\n",
       " False,\n",
       " False,\n",
       " False,\n",
       " True,\n",
       " False,\n",
       " False,\n",
       " False,\n",
       " False,\n",
       " True,\n",
       " False,\n",
       " False,\n",
       " False,\n",
       " True,\n",
       " False,\n",
       " False,\n",
       " True,\n",
       " False,\n",
       " False,\n",
       " False,\n",
       " False,\n",
       " True,\n",
       " False,\n",
       " False,\n",
       " True,\n",
       " False,\n",
       " False,\n",
       " False,\n",
       " False,\n",
       " True,\n",
       " False,\n",
       " False,\n",
       " False,\n",
       " True,\n",
       " False,\n",
       " False,\n",
       " False,\n",
       " False,\n",
       " False,\n",
       " True,\n",
       " False,\n",
       " True,\n",
       " False,\n",
       " False,\n",
       " False,\n",
       " False,\n",
       " False,\n",
       " True,\n",
       " False,\n",
       " False,\n",
       " False,\n",
       " False,\n",
       " False,\n",
       " True,\n",
       " False,\n",
       " False,\n",
       " False,\n",
       " False,\n",
       " True,\n",
       " False,\n",
       " False,\n",
       " False,\n",
       " True,\n",
       " False,\n",
       " False,\n",
       " False,\n",
       " False,\n",
       " False,\n",
       " True,\n",
       " False,\n",
       " False,\n",
       " False,\n",
       " False,\n",
       " True,\n",
       " False,\n",
       " False,\n",
       " False,\n",
       " False,\n",
       " True,\n",
       " False,\n",
       " False,\n",
       " False,\n",
       " True,\n",
       " False,\n",
       " False,\n",
       " False,\n",
       " False,\n",
       " True,\n",
       " False,\n",
       " False,\n",
       " False,\n",
       " True,\n",
       " False,\n",
       " False,\n",
       " False,\n",
       " True,\n",
       " False,\n",
       " False,\n",
       " True,\n",
       " False,\n",
       " False,\n",
       " False,\n",
       " False,\n",
       " True,\n",
       " False,\n",
       " False,\n",
       " True,\n",
       " False,\n",
       " False,\n",
       " False,\n",
       " False,\n",
       " True,\n",
       " False,\n",
       " False,\n",
       " False,\n",
       " True,\n",
       " False,\n",
       " False,\n",
       " False,\n",
       " False,\n",
       " False,\n",
       " True,\n",
       " False,\n",
       " False,\n",
       " False]"
      ]
     },
     "metadata": {},
     "execution_count": 213
    }
   ],
   "source": [
    "[pagebreak(p) for p in paragraphs]"
   ]
  },
  {
   "cell_type": "code",
   "execution_count": 166,
   "metadata": {},
   "outputs": [
    {
     "output_type": "stream",
     "name": "stdout",
     "text": [
      "\n"
     ]
    }
   ],
   "source": [
    "print()"
   ]
  },
  {
   "cell_type": "code",
   "execution_count": null,
   "metadata": {},
   "outputs": [],
   "source": []
  }
 ]
}